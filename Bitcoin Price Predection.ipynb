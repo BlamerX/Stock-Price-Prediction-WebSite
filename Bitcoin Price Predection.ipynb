{
 "cells": [
  {
   "cell_type": "code",
   "execution_count": 1,
   "id": "42fa5406",
   "metadata": {
    "_kg_hide-input": true,
    "_kg_hide-output": true,
    "execution": {
     "iopub.execute_input": "2023-05-24T20:14:34.434258Z",
     "iopub.status.busy": "2023-05-24T20:14:34.433804Z",
     "iopub.status.idle": "2023-05-24T20:15:03.863510Z",
     "shell.execute_reply": "2023-05-24T20:15:03.862033Z"
    },
    "papermill": {
     "duration": 29.443206,
     "end_time": "2023-05-24T20:15:03.867171",
     "exception": false,
     "start_time": "2023-05-24T20:14:34.423965",
     "status": "completed"
    },
    "tags": []
   },
   "outputs": [
    {
     "name": "stdout",
     "output_type": "stream",
     "text": [
      "Collecting yfinance\r\n",
      "  Downloading yfinance-0.2.18-py2.py3-none-any.whl (60 kB)\r\n",
      "\u001b[2K     \u001b[90m━━━━━━━━━━━━━━━━━━━━━━━━━━━━━━━━━━━━━━━━\u001b[0m \u001b[32m60.3/60.3 kB\u001b[0m \u001b[31m2.3 MB/s\u001b[0m eta \u001b[36m0:00:00\u001b[0m\r\n",
      "\u001b[?25hCollecting multitasking>=0.0.7\r\n",
      "  Downloading multitasking-0.0.11-py3-none-any.whl (8.5 kB)\r\n",
      "Requirement already satisfied: beautifulsoup4>=4.11.1 in /opt/conda/lib/python3.7/site-packages (from yfinance) (4.11.1)\r\n",
      "Requirement already satisfied: cryptography>=3.3.2 in /opt/conda/lib/python3.7/site-packages (from yfinance) (38.0.2)\r\n",
      "Requirement already satisfied: pytz>=2022.5 in /opt/conda/lib/python3.7/site-packages (from yfinance) (2022.7.1)\r\n",
      "Requirement already satisfied: lxml>=4.9.1 in /opt/conda/lib/python3.7/site-packages (from yfinance) (4.9.2)\r\n",
      "Requirement already satisfied: numpy>=1.16.5 in /opt/conda/lib/python3.7/site-packages (from yfinance) (1.21.6)\r\n",
      "Requirement already satisfied: pandas>=1.3.0 in /opt/conda/lib/python3.7/site-packages (from yfinance) (1.3.5)\r\n",
      "Requirement already satisfied: requests>=2.26 in /opt/conda/lib/python3.7/site-packages (from yfinance) (2.28.2)\r\n",
      "Requirement already satisfied: html5lib>=1.1 in /opt/conda/lib/python3.7/site-packages (from yfinance) (1.1)\r\n",
      "Requirement already satisfied: appdirs>=1.4.4 in /opt/conda/lib/python3.7/site-packages (from yfinance) (1.4.4)\r\n",
      "Requirement already satisfied: frozendict>=2.3.4 in /opt/conda/lib/python3.7/site-packages (from yfinance) (2.3.6)\r\n",
      "Requirement already satisfied: soupsieve>1.2 in /opt/conda/lib/python3.7/site-packages (from beautifulsoup4>=4.11.1->yfinance) (2.3.2.post1)\r\n",
      "Requirement already satisfied: cffi>=1.12 in /opt/conda/lib/python3.7/site-packages (from cryptography>=3.3.2->yfinance) (1.15.1)\r\n",
      "Requirement already satisfied: six>=1.9 in /opt/conda/lib/python3.7/site-packages (from html5lib>=1.1->yfinance) (1.16.0)\r\n",
      "Requirement already satisfied: webencodings in /opt/conda/lib/python3.7/site-packages (from html5lib>=1.1->yfinance) (0.5.1)\r\n",
      "Requirement already satisfied: python-dateutil>=2.7.3 in /opt/conda/lib/python3.7/site-packages (from pandas>=1.3.0->yfinance) (2.8.2)\r\n",
      "Requirement already satisfied: charset-normalizer<4,>=2 in /opt/conda/lib/python3.7/site-packages (from requests>=2.26->yfinance) (2.1.1)\r\n",
      "Requirement already satisfied: urllib3<1.27,>=1.21.1 in /opt/conda/lib/python3.7/site-packages (from requests>=2.26->yfinance) (1.26.14)\r\n",
      "Requirement already satisfied: idna<4,>=2.5 in /opt/conda/lib/python3.7/site-packages (from requests>=2.26->yfinance) (3.4)\r\n",
      "Requirement already satisfied: certifi>=2017.4.17 in /opt/conda/lib/python3.7/site-packages (from requests>=2.26->yfinance) (2022.12.7)\r\n",
      "Requirement already satisfied: pycparser in /opt/conda/lib/python3.7/site-packages (from cffi>=1.12->cryptography>=3.3.2->yfinance) (2.21)\r\n",
      "Installing collected packages: multitasking, yfinance\r\n",
      "Successfully installed multitasking-0.0.11 yfinance-0.2.18\r\n",
      "\u001b[33mWARNING: Running pip as the 'root' user can result in broken permissions and conflicting behaviour with the system package manager. It is recommended to use a virtual environment instead: https://pip.pypa.io/warnings/venv\u001b[0m\u001b[33m\r\n",
      "\u001b[0mCollecting mpl-finance\r\n",
      "  Downloading mpl_finance-0.10.1-py3-none-any.whl (8.4 kB)\r\n",
      "Requirement already satisfied: matplotlib in /opt/conda/lib/python3.7/site-packages (from mpl-finance) (3.5.3)\r\n",
      "Requirement already satisfied: pillow>=6.2.0 in /opt/conda/lib/python3.7/site-packages (from matplotlib->mpl-finance) (9.4.0)\r\n",
      "Requirement already satisfied: packaging>=20.0 in /opt/conda/lib/python3.7/site-packages (from matplotlib->mpl-finance) (23.0)\r\n",
      "Requirement already satisfied: python-dateutil>=2.7 in /opt/conda/lib/python3.7/site-packages (from matplotlib->mpl-finance) (2.8.2)\r\n",
      "Requirement already satisfied: numpy>=1.17 in /opt/conda/lib/python3.7/site-packages (from matplotlib->mpl-finance) (1.21.6)\r\n",
      "Requirement already satisfied: kiwisolver>=1.0.1 in /opt/conda/lib/python3.7/site-packages (from matplotlib->mpl-finance) (1.4.4)\r\n",
      "Requirement already satisfied: pyparsing>=2.2.1 in /opt/conda/lib/python3.7/site-packages (from matplotlib->mpl-finance) (3.0.9)\r\n",
      "Requirement already satisfied: cycler>=0.10 in /opt/conda/lib/python3.7/site-packages (from matplotlib->mpl-finance) (0.11.0)\r\n",
      "Requirement already satisfied: fonttools>=4.22.0 in /opt/conda/lib/python3.7/site-packages (from matplotlib->mpl-finance) (4.38.0)\r\n",
      "Requirement already satisfied: typing-extensions in /opt/conda/lib/python3.7/site-packages (from kiwisolver>=1.0.1->matplotlib->mpl-finance) (4.4.0)\r\n",
      "Requirement already satisfied: six>=1.5 in /opt/conda/lib/python3.7/site-packages (from python-dateutil>=2.7->matplotlib->mpl-finance) (1.16.0)\r\n",
      "Installing collected packages: mpl-finance\r\n",
      "Successfully installed mpl-finance-0.10.1\r\n",
      "\u001b[33mWARNING: Running pip as the 'root' user can result in broken permissions and conflicting behaviour with the system package manager. It is recommended to use a virtual environment instead: https://pip.pypa.io/warnings/venv\u001b[0m\u001b[33m\r\n",
      "\u001b[0m"
     ]
    }
   ],
   "source": [
    "!pip install yfinance\n",
    "!pip install mpl-finance"
   ]
  },
  {
   "cell_type": "code",
   "execution_count": 2,
   "id": "d2dca2f4",
   "metadata": {
    "execution": {
     "iopub.execute_input": "2023-05-24T20:15:03.886652Z",
     "iopub.status.busy": "2023-05-24T20:15:03.886172Z",
     "iopub.status.idle": "2023-05-24T20:15:07.821941Z",
     "shell.execute_reply": "2023-05-24T20:15:07.820533Z"
    },
    "papermill": {
     "duration": 3.948804,
     "end_time": "2023-05-24T20:15:07.824912",
     "exception": false,
     "start_time": "2023-05-24T20:15:03.876108",
     "status": "completed"
    },
    "tags": []
   },
   "outputs": [],
   "source": [
    "import yfinance as yf\n",
    "import pandas as pd\n",
    "from datetime import datetime, timedelta\n",
    "\n",
    "import matplotlib.pyplot as plt\n",
    "import matplotlib.dates as mdates\n",
    "import plotly.express as px\n",
    "import seaborn as sns\n",
    "\n",
    "from sklearn.model_selection import train_test_split\n",
    "from sklearn.linear_model import LinearRegression"
   ]
  },
  {
   "cell_type": "code",
   "execution_count": 3,
   "id": "a52dc1a2",
   "metadata": {
    "execution": {
     "iopub.execute_input": "2023-05-24T20:15:07.842794Z",
     "iopub.status.busy": "2023-05-24T20:15:07.842332Z",
     "iopub.status.idle": "2023-05-24T20:15:08.418395Z",
     "shell.execute_reply": "2023-05-24T20:15:08.416939Z"
    },
    "papermill": {
     "duration": 0.588163,
     "end_time": "2023-05-24T20:15:08.421070",
     "exception": false,
     "start_time": "2023-05-24T20:15:07.832907",
     "status": "completed"
    },
    "tags": []
   },
   "outputs": [
    {
     "name": "stdout",
     "output_type": "stream",
     "text": [
      "[*********************100%***********************]  1 of 1 completed\n"
     ]
    },
    {
     "data": {
      "text/html": [
       "<div>\n",
       "<style scoped>\n",
       "    .dataframe tbody tr th:only-of-type {\n",
       "        vertical-align: middle;\n",
       "    }\n",
       "\n",
       "    .dataframe tbody tr th {\n",
       "        vertical-align: top;\n",
       "    }\n",
       "\n",
       "    .dataframe thead th {\n",
       "        text-align: right;\n",
       "    }\n",
       "</style>\n",
       "<table border=\"1\" class=\"dataframe\">\n",
       "  <thead>\n",
       "    <tr style=\"text-align: right;\">\n",
       "      <th></th>\n",
       "      <th>Date</th>\n",
       "      <th>Open</th>\n",
       "      <th>High</th>\n",
       "      <th>Low</th>\n",
       "      <th>Close</th>\n",
       "      <th>BTC</th>\n",
       "      <th>Volume</th>\n",
       "    </tr>\n",
       "  </thead>\n",
       "  <tbody>\n",
       "    <tr>\n",
       "      <th>0</th>\n",
       "      <td>2023-03-01</td>\n",
       "      <td>23150.929688</td>\n",
       "      <td>23880.632812</td>\n",
       "      <td>23088.626953</td>\n",
       "      <td>23646.550781</td>\n",
       "      <td>23646.550781</td>\n",
       "      <td>24662841200</td>\n",
       "    </tr>\n",
       "    <tr>\n",
       "      <th>1</th>\n",
       "      <td>2023-03-02</td>\n",
       "      <td>23647.019531</td>\n",
       "      <td>23739.138672</td>\n",
       "      <td>23245.021484</td>\n",
       "      <td>23475.466797</td>\n",
       "      <td>23475.466797</td>\n",
       "      <td>20386398516</td>\n",
       "    </tr>\n",
       "    <tr>\n",
       "      <th>2</th>\n",
       "      <td>2023-03-03</td>\n",
       "      <td>23476.632812</td>\n",
       "      <td>23479.347656</td>\n",
       "      <td>22213.238281</td>\n",
       "      <td>22362.679688</td>\n",
       "      <td>22362.679688</td>\n",
       "      <td>26062404610</td>\n",
       "    </tr>\n",
       "    <tr>\n",
       "      <th>3</th>\n",
       "      <td>2023-03-04</td>\n",
       "      <td>22362.923828</td>\n",
       "      <td>22405.177734</td>\n",
       "      <td>22198.980469</td>\n",
       "      <td>22353.349609</td>\n",
       "      <td>22353.349609</td>\n",
       "      <td>11166012913</td>\n",
       "    </tr>\n",
       "    <tr>\n",
       "      <th>4</th>\n",
       "      <td>2023-03-05</td>\n",
       "      <td>22354.144531</td>\n",
       "      <td>22613.685547</td>\n",
       "      <td>22307.142578</td>\n",
       "      <td>22435.513672</td>\n",
       "      <td>22435.513672</td>\n",
       "      <td>13317001733</td>\n",
       "    </tr>\n",
       "  </tbody>\n",
       "</table>\n",
       "</div>"
      ],
      "text/plain": [
       "        Date          Open          High           Low         Close  \\\n",
       "0 2023-03-01  23150.929688  23880.632812  23088.626953  23646.550781   \n",
       "1 2023-03-02  23647.019531  23739.138672  23245.021484  23475.466797   \n",
       "2 2023-03-03  23476.632812  23479.347656  22213.238281  22362.679688   \n",
       "3 2023-03-04  22362.923828  22405.177734  22198.980469  22353.349609   \n",
       "4 2023-03-05  22354.144531  22613.685547  22307.142578  22435.513672   \n",
       "\n",
       "            BTC       Volume  \n",
       "0  23646.550781  24662841200  \n",
       "1  23475.466797  20386398516  \n",
       "2  22362.679688  26062404610  \n",
       "3  22353.349609  11166012913  \n",
       "4  22435.513672  13317001733  "
      ]
     },
     "execution_count": 3,
     "metadata": {},
     "output_type": "execute_result"
    }
   ],
   "source": [
    "# Define a list of cryptocurrency tickers\n",
    "tickers = [\"BTC-USD\"]\n",
    "\n",
    "# Define start and end dates\n",
    "end_date = datetime.today().strftime('%Y-%m-%d')\n",
    "days=7*12\n",
    "start_date = (datetime.today() - timedelta(days=days)).strftime('%Y-%m-%d')\n",
    "\n",
    "# Download the data from Yahoo Finance\n",
    "df = yf.download(tickers, start=start_date, end=end_date, group_by='ticker')\n",
    "\n",
    "# Flatten the multi-index columns and rename them\n",
    "df = df.rename(columns={\"Adj Close\": \"BTC\"})\n",
    "\n",
    "# Reset the index to make the date a separate column\n",
    "df = df.reset_index()\n",
    "\n",
    "# Print the DataFrame\n",
    "df.head()"
   ]
  },
  {
   "cell_type": "code",
   "execution_count": 4,
   "id": "178bb4a4",
   "metadata": {
    "execution": {
     "iopub.execute_input": "2023-05-24T20:15:08.441334Z",
     "iopub.status.busy": "2023-05-24T20:15:08.440891Z",
     "iopub.status.idle": "2023-05-24T20:15:08.449611Z",
     "shell.execute_reply": "2023-05-24T20:15:08.448233Z"
    },
    "papermill": {
     "duration": 0.021818,
     "end_time": "2023-05-24T20:15:08.452195",
     "exception": false,
     "start_time": "2023-05-24T20:15:08.430377",
     "status": "completed"
    },
    "tags": []
   },
   "outputs": [
    {
     "data": {
      "text/plain": [
       "Index(['Date', 'Open', 'High', 'Low', 'Close', 'BTC', 'Volume'], dtype='object')"
      ]
     },
     "execution_count": 4,
     "metadata": {},
     "output_type": "execute_result"
    }
   ],
   "source": [
    "df.columns"
   ]
  },
  {
   "cell_type": "code",
   "execution_count": 5,
   "id": "cabca3b7",
   "metadata": {
    "execution": {
     "iopub.execute_input": "2023-05-24T20:15:08.471733Z",
     "iopub.status.busy": "2023-05-24T20:15:08.471322Z",
     "iopub.status.idle": "2023-05-24T20:15:08.976928Z",
     "shell.execute_reply": "2023-05-24T20:15:08.975854Z"
    },
    "papermill": {
     "duration": 0.518766,
     "end_time": "2023-05-24T20:15:08.979659",
     "exception": false,
     "start_time": "2023-05-24T20:15:08.460893",
     "status": "completed"
    },
    "tags": []
   },
   "outputs": [
    {
     "data": {
      "image/png": "[encoded data removed]",
      "text/plain": [
       "<Figure size 1200x800 with 1 Axes>"
      ]
     },
     "metadata": {},
     "output_type": "display_data"
    }
   ],
   "source": [
    "# Convert date column to a matplotlib-compatible format\n",
    "df['Date_mpl'] = df['Date'].apply(lambda x: mdates.date2num(x))\n",
    "\n",
    "# Set the style of the plot\n",
    "sns.set(style=\"darkgrid\")\n",
    "\n",
    "# Create a new figure and axis\n",
    "fig, ax = plt.subplots(figsize=(12,8))\n",
    "\n",
    "# Plot the line chart\n",
    "sns.lineplot(x='Date_mpl', y='BTC', data=df, ax=ax)\n",
    "\n",
    "# Set the x-axis label and format\n",
    "ax.set_xlabel('Date', fontsize=16)\n",
    "ax.xaxis.set_major_locator(mdates.AutoDateLocator())\n",
    "ax.xaxis.set_major_formatter(mdates.DateFormatter('%Y.%m.%d'))\n",
    "fig.autofmt_xdate()\n",
    "\n",
    "# Set the y-axis label and title\n",
    "ax.set_ylabel('Price in USD', fontsize=16)\n",
    "ax.set_title('Bitcoin Price (USD)', fontsize=20)\n",
    "\n",
    "# Show the plot\n",
    "plt.show()"
   ]
  },
  {
   "cell_type": "code",
   "execution_count": 6,
   "id": "1c295b57",
   "metadata": {
    "execution": {
     "iopub.execute_input": "2023-05-24T20:15:09.002141Z",
     "iopub.status.busy": "2023-05-24T20:15:09.001441Z",
     "iopub.status.idle": "2023-05-24T20:15:09.571376Z",
     "shell.execute_reply": "2023-05-24T20:15:09.570020Z"
    },
    "papermill": {
     "duration": 0.58418,
     "end_time": "2023-05-24T20:15:09.574095",
     "exception": false,
     "start_time": "2023-05-24T20:15:08.989915",
     "status": "completed"
    },
    "tags": []
   },
   "outputs": [
    {
     "name": "stderr",
     "output_type": "stream",
     "text": [
      "/opt/conda/lib/python3.7/site-packages/mpl_finance.py:22: DeprecationWarning: \n",
      "\n",
      "  =================================================================\n",
      "\n",
      "   WARNING: `mpl_finance` is deprecated:\n",
      "\n",
      "    Please use `mplfinance` instead (no hyphen, no underscore).\n",
      "\n",
      "    To install: `pip install --upgrade mplfinance` \n",
      "\n",
      "   For more information, see: https://pypi.org/project/mplfinance/\n",
      "\n",
      "  =================================================================\n",
      "\n",
      "  category=DeprecationWarning)\n"
     ]
    },
    {
     "data": {
      "image/png": "[encoded data removed]",
      "text/plain": [
       "<Figure size 1200x800 with 1 Axes>"
      ]
     },
     "metadata": {},
     "output_type": "display_data"
    }
   ],
   "source": [
    "import matplotlib.ticker as mticker\n",
    "from mpl_finance import candlestick_ohlc\n",
    "\n",
    "# Convert date column to a matplotlib-compatible format\n",
    "df['Date_mpl'] = df['Date'].apply(lambda x: mdates.date2num(x))\n",
    "\n",
    "fig = plt.figure(figsize=(12,8))\n",
    "ax1 = plt.subplot2grid((1,1), (0,0))\n",
    "\n",
    "# Create a new dataframe with data from the days\n",
    "temp_df = df[df['Date']>(datetime.today() - timedelta(days=days))]\n",
    "\n",
    "ohlc = []\n",
    "for ind, row in temp_df.iterrows():\n",
    "    ol = [row['Date_mpl'],row['Open'], row['High'], row['Low'], row['Close'], row['Volume']]\n",
    "    ohlc.append(ol)\n",
    "    \n",
    "candlestick_ohlc(ax1, ohlc, width=0.4, colorup='#77d879', colordown='#db3f3f')\n",
    "ax1.xaxis.set_major_formatter(mdates.DateFormatter('%Y-%m-%d'))\n",
    "ax1.xaxis.set_major_locator(mticker.MaxNLocator(10))\n",
    "\n",
    "\n",
    "plt.xlabel(\"Date\", fontsize=16)\n",
    "plt.ylabel(\"Price in USD\", fontsize=16)\n",
    "plt.title(\"Bitcoin Price (USD)\", fontsize=20)\n",
    "plt.subplots_adjust(left=0.09, bottom=0.20, right=0.94, top=0.90, wspace=0.2, hspace=0)\n",
    "plt.show()"
   ]
  },
  {
   "cell_type": "code",
   "execution_count": 7,
   "id": "ac80f1e3",
   "metadata": {
    "execution": {
     "iopub.execute_input": "2023-05-24T20:15:09.597367Z",
     "iopub.status.busy": "2023-05-24T20:15:09.596908Z",
     "iopub.status.idle": "2023-05-24T20:15:11.250628Z",
     "shell.execute_reply": "2023-05-24T20:15:11.249429Z"
    },
    "papermill": {
     "duration": 1.668517,
     "end_time": "2023-05-24T20:15:11.253385",
     "exception": false,
     "start_time": "2023-05-24T20:15:09.584868",
     "status": "completed"
    },
    "tags": []
   },
   "outputs": [
    {
     "data": {
      "text/html": [
       "        <script type=\"text/javascript\">\n",
       "        window.PlotlyConfig = {MathJaxConfig: 'local'};\n",
       "        if (window.MathJax && window.MathJax.Hub && window.MathJax.Hub.Config) {window.MathJax.Hub.Config({SVG: {font: \"STIX-Web\"}});}\n",
       "        if (typeof require !== 'undefined') {\n",
       "        require.undef(\"plotly\");\n",
       "        requirejs.config({\n",
       "            paths: {\n",
       "                'plotly': ['https://cdn.plot.ly/plotly-2.18.0.min']\n",
       "            }\n",
       "        });\n",
       "        require(['plotly'], function(Plotly) {\n",
       "            window._Plotly = Plotly;\n",
       "        });\n",
       "        }\n",
       "        </script>\n",
       "        "
      ]
     },
     "metadata": {},
     "output_type": "display_data"
    },
    {
     "data": {
      "text/html": [
       "<div>                            <div id=\"6af22a40-7301-4ec7-8414-793672f47ea1\" class=\"plotly-graph-div\" style=\"height:525px; width:100%;\"></div>            <script type=\"text/javascript\">                require([\"plotly\"], function(Plotly) {                    window.PLOTLYENV=window.PLOTLYENV || {};                                    if (document.getElementById(\"6af22a40-7301-4ec7-8414-793672f47ea1\")) {                    Plotly.newPlot(                        \"6af22a40-7301-4ec7-8414-793672f47ea1\",                        [{\"hovertemplate\":\"variable=Open<br>Date=%{x}<br>Price=%{y}<extra></extra>\",\"legendgroup\":\"Open\",\"line\":{\"color\":\"#636efa\",\"dash\":\"solid\"},\"marker\":{\"symbol\":\"circle\"},\"mode\":\"lines\",\"name\":\"Open\",\"orientation\":\"v\",\"showlegend\":true,\"x\":[\"2023-03-01T00:00:00\",\"2023-03-02T00:00:00\",\"2023-03-03T00:00:00\",\"2023-03-04T00:00:00\",\"2023-03-05T00:00:00\",\"2023-03-06T00:00:00\",\"2023-03-07T00:00:00\",\"2023-03-08T00:00:00\",\"2023-03-09T00:00:00\",\"2023-03-10T00:00:00\",\"2023-03-11T00:00:00\",\"2023-03-12T00:00:00\",\"2023-03-13T00:00:00\",\"2023-03-14T00:00:00\",\"2023-03-15T00:00:00\",\"2023-03-16T00:00:00\",\"2023-03-17T00:00:00\",\"2023-03-18T00:00:00\",\"2023-03-19T00:00:00\",\"2023-03-20T00:00:00\",\"2023-03-21T00:00:00\",\"2023-03-22T00:00:00\",\"2023-03-23T00:00:00\",\"2023-03-24T00:00:00\",\"2023-03-25T00:00:00\",\"2023-03-26T00:00:00\",\"2023-03-27T00:00:00\",\"2023-03-28T00:00:00\",\"2023-03-29T00:00:00\",\"2023-03-30T00:00:00\",\"2023-03-31T00:00:00\",\"2023-04-01T00:00:00\",\"2023-04-02T00:00:00\",\"2023-04-03T00:00:00\",\"2023-04-04T00:00:00\",\"2023-04-05T00:00:00\",\"2023-04-06T00:00:00\",\"2023-04-07T00:00:00\",\"2023-04-08T00:00:00\",\"2023-04-09T00:00:00\",\"2023-04-10T00:00:00\",\"2023-04-11T00:00:00\",\"2023-04-12T00:00:00\",\"2023-04-13T00:00:00\",\"2023-04-14T00:00:00\",\"2023-04-15T00:00:00\",\"2023-04-16T00:00:00\",\"2023-04-17T00:00:00\",\"2023-04-18T00:00:00\",\"2023-04-19T00:00:00\",\"2023-04-20T00:00:00\",\"2023-04-21T00:00:00\",\"2023-04-22T00:00:00\",\"2023-04-23T00:00:00\",\"2023-04-24T00:00:00\",\"2023-04-25T00:00:00\",\"2023-04-26T00:00:00\",\"2023-04-27T00:00:00\",\"2023-04-28T00:00:00\",\"2023-04-29T00:00:00\",\"2023-04-30T00:00:00\",\"2023-05-01T00:00:00\",\"2023-05-02T00:00:00\",\"2023-05-03T00:00:00\",\"2023-05-04T00:00:00\",\"2023-05-05T00:00:00\",\"2023-05-06T00:00:00\",\"2023-05-07T00:00:00\",\"2023-05-08T00:00:00\",\"2023-05-09T00:00:00\",\"2023-05-10T00:00:00\",\"2023-05-11T00:00:00\",\"2023-05-12T00:00:00\",\"2023-05-13T00:00:00\",\"2023-05-14T00:00:00\",\"2023-05-15T00:00:00\",\"2023-05-16T00:00:00\",\"2023-05-17T00:00:00\",\"2023-05-18T00:00:00\",\"2023-05-19T00:00:00\",\"2023-05-20T00:00:00\",\"2023-05-21T00:00:00\",\"2023-05-22T00:00:00\",\"2023-05-23T00:00:00\"],\"xaxis\":\"x\",\"y\":[23150.9296875,23647.01953125,23476.6328125,22362.923828125,22354.14453125,22436.81640625,22428.322265625,22216.44140625,21720.080078125,20367.001953125,20187.876953125,20628.029296875,22156.40625,24201.765625,24770.92578125,24373.45703125,25055.123046875,27448.1171875,26969.50390625,28041.6015625,27768.392578125,28158.720703125,27301.95703125,28324.111328125,27487.337890625,27495.5234375,27994.068359375,27132.888671875,27267.03125,28350.140625,28032.26171875,28473.33203125,28462.845703125,28183.080078125,27795.2734375,28169.7265625,28175.2265625,28038.966796875,27920.513671875,27952.3671875,28336.02734375,29653.6796875,30231.58203125,29892.740234375,30409.5625,30490.75,30315.9765625,30317.146484375,29449.091796875,30394.1875,28823.68359375,28249.23046875,27265.89453125,27816.14453125,27591.73046875,27514.873046875,28300.05859375,28428.46484375,29481.013671875,29336.56640625,29245.515625,29227.103515625,28087.17578125,28680.494140625,29031.3046875,28851.48046875,29538.859375,28901.623046875,28450.45703125,27695.068359375,27654.63671875,27621.0859375,26987.662109375,26807.76953125,26788.974609375,26931.384765625,27171.513671875,27035.470703125,27401.650390625,26826.75390625,26888.841796875,27118.423828125,26749.892578125,26855.9609375],\"yaxis\":\"y\",\"type\":\"scatter\"},{\"hovertemplate\":\"variable=Close<br>Date=%{x}<br>Price=%{y}<extra></extra>\",\"legendgroup\":\"Close\",\"line\":{\"color\":\"#EF553B\",\"dash\":\"solid\"},\"marker\":{\"symbol\":\"circle\"},\"mode\":\"lines\",\"name\":\"Close\",\"orientation\":\"v\",\"showlegend\":true,\"x\":[\"2023-03-01T00:00:00\",\"2023-03-02T00:00:00\",\"2023-03-03T00:00:00\",\"2023-03-04T00:00:00\",\"2023-03-05T00:00:00\",\"2023-03-06T00:00:00\",\"2023-03-07T00:00:00\",\"2023-03-08T00:00:00\",\"2023-03-09T00:00:00\",\"2023-03-10T00:00:00\",\"2023-03-11T00:00:00\",\"2023-03-12T00:00:00\",\"2023-03-13T00:00:00\",\"2023-03-14T00:00:00\",\"2023-03-15T00:00:00\",\"2023-03-16T00:00:00\",\"2023-03-17T00:00:00\",\"2023-03-18T00:00:00\",\"2023-03-19T00:00:00\",\"2023-03-20T00:00:00\",\"2023-03-21T00:00:00\",\"2023-03-22T00:00:00\",\"2023-03-23T00:00:00\",\"2023-03-24T00:00:00\",\"2023-03-25T00:00:00\",\"2023-03-26T00:00:00\",\"2023-03-27T00:00:00\",\"2023-03-28T00:00:00\",\"2023-03-29T00:00:00\",\"2023-03-30T00:00:00\",\"2023-03-31T00:00:00\",\"2023-04-01T00:00:00\",\"2023-04-02T00:00:00\",\"2023-04-03T00:00:00\",\"2023-04-04T00:00:00\",\"2023-04-05T00:00:00\",\"2023-04-06T00:00:00\",\"2023-04-07T00:00:00\",\"2023-04-08T00:00:00\",\"2023-04-09T00:00:00\",\"2023-04-10T00:00:00\",\"2023-04-11T00:00:00\",\"2023-04-12T00:00:00\",\"2023-04-13T00:00:00\",\"2023-04-14T00:00:00\",\"2023-04-15T00:00:00\",\"2023-04-16T00:00:00\",\"2023-04-17T00:00:00\",\"2023-04-18T00:00:00\",\"2023-04-19T00:00:00\",\"2023-04-20T00:00:00\",\"2023-04-21T00:00:00\",\"2023-04-22T00:00:00\",\"2023-04-23T00:00:00\",\"2023-04-24T00:00:00\",\"2023-04-25T00:00:00\",\"2023-04-26T00:00:00\",\"2023-04-27T00:00:00\",\"2023-04-28T00:00:00\",\"2023-04-29T00:00:00\",\"2023-04-30T00:00:00\",\"2023-05-01T00:00:00\",\"2023-05-02T00:00:00\",\"2023-05-03T00:00:00\",\"2023-05-04T00:00:00\",\"2023-05-05T00:00:00\",\"2023-05-06T00:00:00\",\"2023-05-07T00:00:00\",\"2023-05-08T00:00:00\",\"2023-05-09T00:00:00\",\"2023-05-10T00:00:00\",\"2023-05-11T00:00:00\",\"2023-05-12T00:00:00\",\"2023-05-13T00:00:00\",\"2023-05-14T00:00:00\",\"2023-05-15T00:00:00\",\"2023-05-16T00:00:00\",\"2023-05-17T00:00:00\",\"2023-05-18T00:00:00\",\"2023-05-19T00:00:00\",\"2023-05-20T00:00:00\",\"2023-05-21T00:00:00\",\"2023-05-22T00:00:00\",\"2023-05-23T00:00:00\"],\"xaxis\":\"x\",\"y\":[23646.55078125,23475.466796875,22362.6796875,22353.349609375,22435.513671875,22429.7578125,22219.76953125,21718.080078125,20363.021484375,20187.244140625,20632.41015625,22163.94921875,24197.533203125,24746.07421875,24375.9609375,25052.7890625,27423.9296875,26965.87890625,28038.67578125,27767.236328125,28175.81640625,27307.4375,28333.97265625,27493.28515625,27494.70703125,27994.330078125,27139.888671875,27268.130859375,28348.44140625,28033.5625,28478.484375,28411.03515625,28199.30859375,27790.220703125,28168.08984375,28177.984375,28044.140625,27925.859375,27947.794921875,28333.05078125,29652.98046875,30235.05859375,30139.052734375,30399.06640625,30485.69921875,30318.49609375,30315.35546875,29445.044921875,30397.552734375,28822.6796875,28245.98828125,27276.91015625,27817.5,27591.384765625,27525.33984375,28307.59765625,28422.701171875,29473.787109375,29340.26171875,29248.48828125,29268.806640625,28091.568359375,28680.537109375,29006.30859375,28847.7109375,29534.384765625,28904.623046875,28454.978515625,27694.2734375,27658.775390625,27621.755859375,27000.7890625,26804.990234375,26784.078125,26930.638671875,27192.693359375,27036.650390625,27398.802734375,26832.208984375,26890.12890625,27129.5859375,26753.826171875,26851.27734375,27225.7265625],\"yaxis\":\"y\",\"type\":\"scatter\"},{\"hovertemplate\":\"variable=High<br>Date=%{x}<br>Price=%{y}<extra></extra>\",\"legendgroup\":\"High\",\"line\":{\"color\":\"#00cc96\",\"dash\":\"solid\"},\"marker\":{\"symbol\":\"circle\"},\"mode\":\"lines\",\"name\":\"High\",\"orientation\":\"v\",\"showlegend\":true,\"x\":[\"2023-03-01T00:00:00\",\"2023-03-02T00:00:00\",\"2023-03-03T00:00:00\",\"2023-03-04T00:00:00\",\"2023-03-05T00:00:00\",\"2023-03-06T00:00:00\",\"2023-03-07T00:00:00\",\"2023-03-08T00:00:00\",\"2023-03-09T00:00:00\",\"2023-03-10T00:00:00\",\"2023-03-11T00:00:00\",\"2023-03-12T00:00:00\",\"2023-03-13T00:00:00\",\"2023-03-14T00:00:00\",\"2023-03-15T00:00:00\",\"2023-03-16T00:00:00\",\"2023-03-17T00:00:00\",\"2023-03-18T00:00:00\",\"2023-03-19T00:00:00\",\"2023-03-20T00:00:00\",\"2023-03-21T00:00:00\",\"2023-03-22T00:00:00\",\"2023-03-23T00:00:00\",\"2023-03-24T00:00:00\",\"2023-03-25T00:00:00\",\"2023-03-26T00:00:00\",\"2023-03-27T00:00:00\",\"2023-03-28T00:00:00\",\"2023-03-29T00:00:00\",\"2023-03-30T00:00:00\",\"2023-03-31T00:00:00\",\"2023-04-01T00:00:00\",\"2023-04-02T00:00:00\",\"2023-04-03T00:00:00\",\"2023-04-04T00:00:00\",\"2023-04-05T00:00:00\",\"2023-04-06T00:00:00\",\"2023-04-07T00:00:00\",\"2023-04-08T00:00:00\",\"2023-04-09T00:00:00\",\"2023-04-10T00:00:00\",\"2023-04-11T00:00:00\",\"2023-04-12T00:00:00\",\"2023-04-13T00:00:00\",\"2023-04-14T00:00:00\",\"2023-04-15T00:00:00\",\"2023-04-16T00:00:00\",\"2023-04-17T00:00:00\",\"2023-04-18T00:00:00\",\"2023-04-19T00:00:00\",\"2023-04-20T00:00:00\",\"2023-04-21T00:00:00\",\"2023-04-22T00:00:00\",\"2023-04-23T00:00:00\",\"2023-04-24T00:00:00\",\"2023-04-25T00:00:00\",\"2023-04-26T00:00:00\",\"2023-04-27T00:00:00\",\"2023-04-28T00:00:00\",\"2023-04-29T00:00:00\",\"2023-04-30T00:00:00\",\"2023-05-01T00:00:00\",\"2023-05-02T00:00:00\",\"2023-05-03T00:00:00\",\"2023-05-04T00:00:00\",\"2023-05-05T00:00:00\",\"2023-05-06T00:00:00\",\"2023-05-07T00:00:00\",\"2023-05-08T00:00:00\",\"2023-05-09T00:00:00\",\"2023-05-10T00:00:00\",\"2023-05-11T00:00:00\",\"2023-05-12T00:00:00\",\"2023-05-13T00:00:00\",\"2023-05-14T00:00:00\",\"2023-05-15T00:00:00\",\"2023-05-16T00:00:00\",\"2023-05-17T00:00:00\",\"2023-05-18T00:00:00\",\"2023-05-19T00:00:00\",\"2023-05-20T00:00:00\",\"2023-05-21T00:00:00\",\"2023-05-22T00:00:00\",\"2023-05-23T00:00:00\"],\"xaxis\":\"x\",\"y\":[23880.6328125,23739.138671875,23479.34765625,22405.177734375,22613.685546875,22584.29296875,22527.41796875,22268.896484375,21802.716796875,20370.595703125,20792.525390625,22185.03125,24550.837890625,26514.716796875,25240.615234375,25190.326171875,27787.8125,27725.953125,28440.560546875,28527.724609375,28439.5625,28803.3359375,28729.84375,28388.4375,27791.826171875,28178.14453125,28037.92578125,27460.71875,28619.54296875,29159.90234375,28639.896484375,28802.45703125,28518.958984375,28475.623046875,28433.7421875,28739.23828125,28178.384765625,28111.59375,28159.86328125,28532.830078125,29771.46484375,30509.083984375,30462.48046875,30539.845703125,31005.607421875,30601.740234375,30555.537109375,30319.197265625,30470.302734375,30411.0546875,29076.400390625,28349.96875,27872.142578125,27820.244140625,27979.982421875,28371.078125,29995.837890625,29871.546875,29572.791015625,29452.455078125,29952.029296875,29329.935546875,28881.298828125,29259.533203125,29353.185546875,29668.908203125,29820.126953125,29157.517578125,28663.271484375,27821.400390625,28322.6875,27621.94140625,27055.646484375,27030.482421875,27150.9765625,27646.34765625,27299.3046875,27465.927734375,27466.52734375,27128.619140625,27155.158203125,27265.91796875,27045.734375,27434.68359375],\"yaxis\":\"y\",\"type\":\"scatter\"},{\"hovertemplate\":\"variable=Low<br>Date=%{x}<br>Price=%{y}<extra></extra>\",\"legendgroup\":\"Low\",\"line\":{\"color\":\"#ab63fa\",\"dash\":\"solid\"},\"marker\":{\"symbol\":\"circle\"},\"mode\":\"lines\",\"name\":\"Low\",\"orientation\":\"v\",\"showlegend\":true,\"x\":[\"2023-03-01T00:00:00\",\"2023-03-02T00:00:00\",\"2023-03-03T00:00:00\",\"2023-03-04T00:00:00\",\"2023-03-05T00:00:00\",\"2023-03-06T00:00:00\",\"2023-03-07T00:00:00\",\"2023-03-08T00:00:00\",\"2023-03-09T00:00:00\",\"2023-03-10T00:00:00\",\"2023-03-11T00:00:00\",\"2023-03-12T00:00:00\",\"2023-03-13T00:00:00\",\"2023-03-14T00:00:00\",\"2023-03-15T00:00:00\",\"2023-03-16T00:00:00\",\"2023-03-17T00:00:00\",\"2023-03-18T00:00:00\",\"2023-03-19T00:00:00\",\"2023-03-20T00:00:00\",\"2023-03-21T00:00:00\",\"2023-03-22T00:00:00\",\"2023-03-23T00:00:00\",\"2023-03-24T00:00:00\",\"2023-03-25T00:00:00\",\"2023-03-26T00:00:00\",\"2023-03-27T00:00:00\",\"2023-03-28T00:00:00\",\"2023-03-29T00:00:00\",\"2023-03-30T00:00:00\",\"2023-03-31T00:00:00\",\"2023-04-01T00:00:00\",\"2023-04-02T00:00:00\",\"2023-04-03T00:00:00\",\"2023-04-04T00:00:00\",\"2023-04-05T00:00:00\",\"2023-04-06T00:00:00\",\"2023-04-07T00:00:00\",\"2023-04-08T00:00:00\",\"2023-04-09T00:00:00\",\"2023-04-10T00:00:00\",\"2023-04-11T00:00:00\",\"2023-04-12T00:00:00\",\"2023-04-13T00:00:00\",\"2023-04-14T00:00:00\",\"2023-04-15T00:00:00\",\"2023-04-16T00:00:00\",\"2023-04-17T00:00:00\",\"2023-04-18T00:00:00\",\"2023-04-19T00:00:00\",\"2023-04-20T00:00:00\",\"2023-04-21T00:00:00\",\"2023-04-22T00:00:00\",\"2023-04-23T00:00:00\",\"2023-04-24T00:00:00\",\"2023-04-25T00:00:00\",\"2023-04-26T00:00:00\",\"2023-04-27T00:00:00\",\"2023-04-28T00:00:00\",\"2023-04-29T00:00:00\",\"2023-04-30T00:00:00\",\"2023-05-01T00:00:00\",\"2023-05-02T00:00:00\",\"2023-05-03T00:00:00\",\"2023-05-04T00:00:00\",\"2023-05-05T00:00:00\",\"2023-05-06T00:00:00\",\"2023-05-07T00:00:00\",\"2023-05-08T00:00:00\",\"2023-05-09T00:00:00\",\"2023-05-10T00:00:00\",\"2023-05-11T00:00:00\",\"2023-05-12T00:00:00\",\"2023-05-13T00:00:00\",\"2023-05-14T00:00:00\",\"2023-05-15T00:00:00\",\"2023-05-16T00:00:00\",\"2023-05-17T00:00:00\",\"2023-05-18T00:00:00\",\"2023-05-19T00:00:00\",\"2023-05-20T00:00:00\",\"2023-05-21T00:00:00\",\"2023-05-22T00:00:00\",\"2023-05-23T00:00:00\"],\"xaxis\":\"x\",\"y\":[23088.626953125,23245.021484375,22213.23828125,22198.98046875,22307.142578125,22331.314453125,22011.26171875,21708.05078125,20210.306640625,19628.25390625,20068.66015625,20448.806640625,21918.19921875,24081.18359375,23964.91015625,24225.111328125,24955.169921875,26636.26171875,26907.716796875,27242.880859375,27439.646484375,26759.99609375,27183.36328125,27039.265625,27196.234375,27445.046875,26606.689453125,26677.818359375,27259.662109375,27720.16015625,27583.71484375,28297.171875,27884.087890625,27276.720703125,27681.3046875,27843.763671875,27738.759765625,27794.03125,27883.38671875,27828.48046875,28189.271484375,29609.30078125,29725.57421875,29878.623046875,30044.498046875,30245.8828125,30157.83203125,29275.37109375,29154.849609375,28669.8984375,28037.2578125,27177.365234375,27169.5703125,27400.314453125,27070.849609375,27207.931640625,27324.548828125,28402.88671875,28929.609375,29088.04296875,29114.021484375,27680.79296875,27924.123046875,28178.388671875,28694.0390625,28845.509765625,28468.966796875,28441.3671875,27310.134765625,27375.6015625,26883.669921875,26781.826171875,25878.4296875,26710.873046875,26661.35546875,26766.09765625,26878.947265625,26600.14453125,26415.1015625,26700.2109375,26843.27734375,26706.921875,26549.734375,26816.1796875],\"yaxis\":\"y\",\"type\":\"scatter\"}],                        {\"template\":{\"data\":{\"histogram2dcontour\":[{\"type\":\"histogram2dcontour\",\"colorbar\":{\"outlinewidth\":0,\"ticks\":\"\"},\"colorscale\":[[0.0,\"#0d0887\"],[0.1111111111111111,\"#46039f\"],[0.2222222222222222,\"#7201a8\"],[0.3333333333333333,\"#9c179e\"],[0.4444444444444444,\"#bd3786\"],[0.5555555555555556,\"#d8576b\"],[0.6666666666666666,\"#ed7953\"],[0.7777777777777778,\"#fb9f3a\"],[0.8888888888888888,\"#fdca26\"],[1.0,\"#f0f921\"]]}],\"choropleth\":[{\"type\":\"choropleth\",\"colorbar\":{\"outlinewidth\":0,\"ticks\":\"\"}}],\"histogram2d\":[{\"type\":\"histogram2d\",\"colorbar\":{\"outlinewidth\":0,\"ticks\":\"\"},\"colorscale\":[[0.0,\"#0d0887\"],[0.1111111111111111,\"#46039f\"],[0.2222222222222222,\"#7201a8\"],[0.3333333333333333,\"#9c179e\"],[0.4444444444444444,\"#bd3786\"],[0.5555555555555556,\"#d8576b\"],[0.6666666666666666,\"#ed7953\"],[0.7777777777777778,\"#fb9f3a\"],[0.8888888888888888,\"#fdca26\"],[1.0,\"#f0f921\"]]}],\"heatmap\":[{\"type\":\"heatmap\",\"colorbar\":{\"outlinewidth\":0,\"ticks\":\"\"},\"colorscale\":[[0.0,\"#0d0887\"],[0.1111111111111111,\"#46039f\"],[0.2222222222222222,\"#7201a8\"],[0.3333333333333333,\"#9c179e\"],[0.4444444444444444,\"#bd3786\"],[0.5555555555555556,\"#d8576b\"],[0.6666666666666666,\"#ed7953\"],[0.7777777777777778,\"#fb9f3a\"],[0.8888888888888888,\"#fdca26\"],[1.0,\"#f0f921\"]]}],\"heatmapgl\":[{\"type\":\"heatmapgl\",\"colorbar\":{\"outlinewidth\":0,\"ticks\":\"\"},\"colorscale\":[[0.0,\"#0d0887\"],[0.1111111111111111,\"#46039f\"],[0.2222222222222222,\"#7201a8\"],[0.3333333333333333,\"#9c179e\"],[0.4444444444444444,\"#bd3786\"],[0.5555555555555556,\"#d8576b\"],[0.6666666666666666,\"#ed7953\"],[0.7777777777777778,\"#fb9f3a\"],[0.8888888888888888,\"#fdca26\"],[1.0,\"#f0f921\"]]}],\"contourcarpet\":[{\"type\":\"contourcarpet\",\"colorbar\":{\"outlinewidth\":0,\"ticks\":\"\"}}],\"contour\":[{\"type\":\"contour\",\"colorbar\":{\"outlinewidth\":0,\"ticks\":\"\"},\"colorscale\":[[0.0,\"#0d0887\"],[0.1111111111111111,\"#46039f\"],[0.2222222222222222,\"#7201a8\"],[0.3333333333333333,\"#9c179e\"],[0.4444444444444444,\"#bd3786\"],[0.5555555555555556,\"#d8576b\"],[0.6666666666666666,\"#ed7953\"],[0.7777777777777778,\"#fb9f3a\"],[0.8888888888888888,\"#fdca26\"],[1.0,\"#f0f921\"]]}],\"surface\":[{\"type\":\"surface\",\"colorbar\":{\"outlinewidth\":0,\"ticks\":\"\"},\"colorscale\":[[0.0,\"#0d0887\"],[0.1111111111111111,\"#46039f\"],[0.2222222222222222,\"#7201a8\"],[0.3333333333333333,\"#9c179e\"],[0.4444444444444444,\"#bd3786\"],[0.5555555555555556,\"#d8576b\"],[0.6666666666666666,\"#ed7953\"],[0.7777777777777778,\"#fb9f3a\"],[0.8888888888888888,\"#fdca26\"],[1.0,\"#f0f921\"]]}],\"mesh3d\":[{\"type\":\"mesh3d\",\"colorbar\":{\"outlinewidth\":0,\"ticks\":\"\"}}],\"scatter\":[{\"fillpattern\":{\"fillmode\":\"overlay\",\"size\":10,\"solidity\":0.2},\"type\":\"scatter\"}],\"parcoords\":[{\"type\":\"parcoords\",\"line\":{\"colorbar\":{\"outlinewidth\":0,\"ticks\":\"\"}}}],\"scatterpolargl\":[{\"type\":\"scatterpolargl\",\"marker\":{\"colorbar\":{\"outlinewidth\":0,\"ticks\":\"\"}}}],\"bar\":[{\"error_x\":{\"color\":\"#2a3f5f\"},\"error_y\":{\"color\":\"#2a3f5f\"},\"marker\":{\"line\":{\"color\":\"#E5ECF6\",\"width\":0.5},\"pattern\":{\"fillmode\":\"overlay\",\"size\":10,\"solidity\":0.2}},\"type\":\"bar\"}],\"scattergeo\":[{\"type\":\"scattergeo\",\"marker\":{\"colorbar\":{\"outlinewidth\":0,\"ticks\":\"\"}}}],\"scatterpolar\":[{\"type\":\"scatterpolar\",\"marker\":{\"colorbar\":{\"outlinewidth\":0,\"ticks\":\"\"}}}],\"histogram\":[{\"marker\":{\"pattern\":{\"fillmode\":\"overlay\",\"size\":10,\"solidity\":0.2}},\"type\":\"histogram\"}],\"scattergl\":[{\"type\":\"scattergl\",\"marker\":{\"colorbar\":{\"outlinewidth\":0,\"ticks\":\"\"}}}],\"scatter3d\":[{\"type\":\"scatter3d\",\"line\":{\"colorbar\":{\"outlinewidth\":0,\"ticks\":\"\"}},\"marker\":{\"colorbar\":{\"outlinewidth\":0,\"ticks\":\"\"}}}],\"scattermapbox\":[{\"type\":\"scattermapbox\",\"marker\":{\"colorbar\":{\"outlinewidth\":0,\"ticks\":\"\"}}}],\"scatterternary\":[{\"type\":\"scatterternary\",\"marker\":{\"colorbar\":{\"outlinewidth\":0,\"ticks\":\"\"}}}],\"scattercarpet\":[{\"type\":\"scattercarpet\",\"marker\":{\"colorbar\":{\"outlinewidth\":0,\"ticks\":\"\"}}}],\"carpet\":[{\"aaxis\":{\"endlinecolor\":\"#2a3f5f\",\"gridcolor\":\"white\",\"linecolor\":\"white\",\"minorgridcolor\":\"white\",\"startlinecolor\":\"#2a3f5f\"},\"baxis\":{\"endlinecolor\":\"#2a3f5f\",\"gridcolor\":\"white\",\"linecolor\":\"white\",\"minorgridcolor\":\"white\",\"startlinecolor\":\"#2a3f5f\"},\"type\":\"carpet\"}],\"table\":[{\"cells\":{\"fill\":{\"color\":\"#EBF0F8\"},\"line\":{\"color\":\"white\"}},\"header\":{\"fill\":{\"color\":\"#C8D4E3\"},\"line\":{\"color\":\"white\"}},\"type\":\"table\"}],\"barpolar\":[{\"marker\":{\"line\":{\"color\":\"#E5ECF6\",\"width\":0.5},\"pattern\":{\"fillmode\":\"overlay\",\"size\":10,\"solidity\":0.2}},\"type\":\"barpolar\"}],\"pie\":[{\"automargin\":true,\"type\":\"pie\"}]},\"layout\":{\"autotypenumbers\":\"strict\",\"colorway\":[\"#636efa\",\"#EF553B\",\"#00cc96\",\"#ab63fa\",\"#FFA15A\",\"#19d3f3\",\"#FF6692\",\"#B6E880\",\"#FF97FF\",\"#FECB52\"],\"font\":{\"color\":\"#2a3f5f\"},\"hovermode\":\"closest\",\"hoverlabel\":{\"align\":\"left\"},\"paper_bgcolor\":\"white\",\"plot_bgcolor\":\"#E5ECF6\",\"polar\":{\"bgcolor\":\"#E5ECF6\",\"angularaxis\":{\"gridcolor\":\"white\",\"linecolor\":\"white\",\"ticks\":\"\"},\"radialaxis\":{\"gridcolor\":\"white\",\"linecolor\":\"white\",\"ticks\":\"\"}},\"ternary\":{\"bgcolor\":\"#E5ECF6\",\"aaxis\":{\"gridcolor\":\"white\",\"linecolor\":\"white\",\"ticks\":\"\"},\"baxis\":{\"gridcolor\":\"white\",\"linecolor\":\"white\",\"ticks\":\"\"},\"caxis\":{\"gridcolor\":\"white\",\"linecolor\":\"white\",\"ticks\":\"\"}},\"coloraxis\":{\"colorbar\":{\"outlinewidth\":0,\"ticks\":\"\"}},\"colorscale\":{\"sequential\":[[0.0,\"#0d0887\"],[0.1111111111111111,\"#46039f\"],[0.2222222222222222,\"#7201a8\"],[0.3333333333333333,\"#9c179e\"],[0.4444444444444444,\"#bd3786\"],[0.5555555555555556,\"#d8576b\"],[0.6666666666666666,\"#ed7953\"],[0.7777777777777778,\"#fb9f3a\"],[0.8888888888888888,\"#fdca26\"],[1.0,\"#f0f921\"]],\"sequentialminus\":[[0.0,\"#0d0887\"],[0.1111111111111111,\"#46039f\"],[0.2222222222222222,\"#7201a8\"],[0.3333333333333333,\"#9c179e\"],[0.4444444444444444,\"#bd3786\"],[0.5555555555555556,\"#d8576b\"],[0.6666666666666666,\"#ed7953\"],[0.7777777777777778,\"#fb9f3a\"],[0.8888888888888888,\"#fdca26\"],[1.0,\"#f0f921\"]],\"diverging\":[[0,\"#8e0152\"],[0.1,\"#c51b7d\"],[0.2,\"#de77ae\"],[0.3,\"#f1b6da\"],[0.4,\"#fde0ef\"],[0.5,\"#f7f7f7\"],[0.6,\"#e6f5d0\"],[0.7,\"#b8e186\"],[0.8,\"#7fbc41\"],[0.9,\"#4d9221\"],[1,\"#276419\"]]},\"xaxis\":{\"gridcolor\":\"white\",\"linecolor\":\"white\",\"ticks\":\"\",\"title\":{\"standoff\":15},\"zerolinecolor\":\"white\",\"automargin\":true,\"zerolinewidth\":2},\"yaxis\":{\"gridcolor\":\"white\",\"linecolor\":\"white\",\"ticks\":\"\",\"title\":{\"standoff\":15},\"zerolinecolor\":\"white\",\"automargin\":true,\"zerolinewidth\":2},\"scene\":{\"xaxis\":{\"backgroundcolor\":\"#E5ECF6\",\"gridcolor\":\"white\",\"linecolor\":\"white\",\"showbackground\":true,\"ticks\":\"\",\"zerolinecolor\":\"white\",\"gridwidth\":2},\"yaxis\":{\"backgroundcolor\":\"#E5ECF6\",\"gridcolor\":\"white\",\"linecolor\":\"white\",\"showbackground\":true,\"ticks\":\"\",\"zerolinecolor\":\"white\",\"gridwidth\":2},\"zaxis\":{\"backgroundcolor\":\"#E5ECF6\",\"gridcolor\":\"white\",\"linecolor\":\"white\",\"showbackground\":true,\"ticks\":\"\",\"zerolinecolor\":\"white\",\"gridwidth\":2}},\"shapedefaults\":{\"line\":{\"color\":\"#2a3f5f\"}},\"annotationdefaults\":{\"arrowcolor\":\"#2a3f5f\",\"arrowhead\":0,\"arrowwidth\":1},\"geo\":{\"bgcolor\":\"white\",\"landcolor\":\"#E5ECF6\",\"subunitcolor\":\"white\",\"showland\":true,\"showlakes\":true,\"lakecolor\":\"white\"},\"title\":{\"x\":0.05},\"mapbox\":{\"style\":\"light\"}}},\"xaxis\":{\"anchor\":\"y\",\"domain\":[0.0,1.0],\"title\":{\"text\":\"Date\"}},\"yaxis\":{\"anchor\":\"x\",\"domain\":[0.0,1.0],\"title\":{\"text\":\"Price\"}},\"legend\":{\"title\":{\"text\":\"Parameters\"},\"tracegroupgap\":0},\"title\":{\"text\":\"Price Over Time\"},\"font\":{\"size\":15,\"color\":\"black\"}},                        {\"responsive\": true}                    ).then(function(){\n",
       "                            \n",
       "var gd = document.getElementById('6af22a40-7301-4ec7-8414-793672f47ea1');\n",
       "var x = new MutationObserver(function (mutations, observer) {{\n",
       "        var display = window.getComputedStyle(gd).display;\n",
       "        if (!display || display === 'none') {{\n",
       "            console.log([gd, 'removed!']);\n",
       "            Plotly.purge(gd);\n",
       "            observer.disconnect();\n",
       "        }}\n",
       "}});\n",
       "\n",
       "// Listen for the removal of the full notebook cells\n",
       "var notebookContainer = gd.closest('#notebook-container');\n",
       "if (notebookContainer) {{\n",
       "    x.observe(notebookContainer, {childList: true});\n",
       "}}\n",
       "\n",
       "// Listen for the clearing of the current output cell\n",
       "var outputEl = gd.closest('.output');\n",
       "if (outputEl) {{\n",
       "    x.observe(outputEl, {childList: true});\n",
       "}}\n",
       "\n",
       "                        })                };                });            </script>        </div>"
      ]
     },
     "metadata": {},
     "output_type": "display_data"
    }
   ],
   "source": [
    "# Visualize the data using Plotly Express\n",
    "fig = px.line(df, x='Date', y=['Open', 'Close', 'High', 'Low'],\n",
    "              labels={'Date': 'Date', 'value': 'Price'},\n",
    "              title='Price Over Time')\n",
    "fig.update_layout(font_size=15, font_color='black', legend_title_text='Parameters')\n",
    "fig.show()"
   ]
  },
  {
   "cell_type": "code",
   "execution_count": 8,
   "id": "59ddecee",
   "metadata": {
    "execution": {
     "iopub.execute_input": "2023-05-24T20:15:11.279042Z",
     "iopub.status.busy": "2023-05-24T20:15:11.278213Z",
     "iopub.status.idle": "2023-05-24T20:15:11.287238Z",
     "shell.execute_reply": "2023-05-24T20:15:11.286176Z"
    },
    "papermill": {
     "duration": 0.024734,
     "end_time": "2023-05-24T20:15:11.289786",
     "exception": false,
     "start_time": "2023-05-24T20:15:11.265052",
     "status": "completed"
    },
    "tags": []
   },
   "outputs": [],
   "source": [
    "# Convert date to a numerical value\n",
    "df['Date'] = df['Date'].dt.year*10000 + df['Date'].dt.month*100 + df['Date'].dt.day"
   ]
  },
  {
   "cell_type": "code",
   "execution_count": 9,
   "id": "e02b53c5",
   "metadata": {
    "execution": {
     "iopub.execute_input": "2023-05-24T20:15:11.315410Z",
     "iopub.status.busy": "2023-05-24T20:15:11.314378Z",
     "iopub.status.idle": "2023-05-24T20:15:11.324972Z",
     "shell.execute_reply": "2023-05-24T20:15:11.323643Z"
    },
    "papermill": {
     "duration": 0.026312,
     "end_time": "2023-05-24T20:15:11.327810",
     "exception": false,
     "start_time": "2023-05-24T20:15:11.301498",
     "status": "completed"
    },
    "tags": []
   },
   "outputs": [
    {
     "data": {
      "text/plain": [
       "Date        0\n",
       "Open        0\n",
       "High        0\n",
       "Low         0\n",
       "Close       0\n",
       "BTC         0\n",
       "Volume      0\n",
       "Date_mpl    0\n",
       "dtype: int64"
      ]
     },
     "execution_count": 9,
     "metadata": {},
     "output_type": "execute_result"
    }
   ],
   "source": [
    "df.isna().sum()"
   ]
  },
  {
   "cell_type": "code",
   "execution_count": 10,
   "id": "2125c441",
   "metadata": {
    "execution": {
     "iopub.execute_input": "2023-05-24T20:15:11.353657Z",
     "iopub.status.busy": "2023-05-24T20:15:11.352562Z",
     "iopub.status.idle": "2023-05-24T20:15:11.361514Z",
     "shell.execute_reply": "2023-05-24T20:15:11.360288Z"
    },
    "papermill": {
     "duration": 0.024728,
     "end_time": "2023-05-24T20:15:11.364134",
     "exception": false,
     "start_time": "2023-05-24T20:15:11.339406",
     "status": "completed"
    },
    "tags": []
   },
   "outputs": [],
   "source": [
    "df=df.dropna()"
   ]
  },
  {
   "cell_type": "code",
   "execution_count": 11,
   "id": "191cf84e",
   "metadata": {
    "execution": {
     "iopub.execute_input": "2023-05-24T20:15:11.388865Z",
     "iopub.status.busy": "2023-05-24T20:15:11.388440Z",
     "iopub.status.idle": "2023-05-24T20:15:11.395767Z",
     "shell.execute_reply": "2023-05-24T20:15:11.394601Z"
    },
    "papermill": {
     "duration": 0.023008,
     "end_time": "2023-05-24T20:15:11.398553",
     "exception": false,
     "start_time": "2023-05-24T20:15:11.375545",
     "status": "completed"
    },
    "tags": []
   },
   "outputs": [
    {
     "data": {
      "text/plain": [
       "Index(['Date', 'Open', 'High', 'Low', 'Close', 'BTC', 'Volume', 'Date_mpl'], dtype='object')"
      ]
     },
     "execution_count": 11,
     "metadata": {},
     "output_type": "execute_result"
    }
   ],
   "source": [
    "df.columns"
   ]
  },
  {
   "cell_type": "code",
   "execution_count": 12,
   "id": "cefeda20",
   "metadata": {
    "execution": {
     "iopub.execute_input": "2023-05-24T20:15:11.423504Z",
     "iopub.status.busy": "2023-05-24T20:15:11.423082Z",
     "iopub.status.idle": "2023-05-24T20:15:11.432210Z",
     "shell.execute_reply": "2023-05-24T20:15:11.431118Z"
    },
    "papermill": {
     "duration": 0.024603,
     "end_time": "2023-05-24T20:15:11.434620",
     "exception": false,
     "start_time": "2023-05-24T20:15:11.410017",
     "status": "completed"
    },
    "tags": []
   },
   "outputs": [
    {
     "data": {
      "text/plain": [
       "Index(['Date', 'Open', 'High', 'Low', 'Close', 'BTC', 'Volume'], dtype='object')"
      ]
     },
     "execution_count": 12,
     "metadata": {},
     "output_type": "execute_result"
    }
   ],
   "source": [
    "df = df.drop([\"Date_mpl\"], axis=1)\n",
    "df.columns"
   ]
  },
  {
   "cell_type": "code",
   "execution_count": 13,
   "id": "377f7477",
   "metadata": {
    "execution": {
     "iopub.execute_input": "2023-05-24T20:15:11.460139Z",
     "iopub.status.busy": "2023-05-24T20:15:11.459475Z",
     "iopub.status.idle": "2023-05-24T20:15:11.466472Z",
     "shell.execute_reply": "2023-05-24T20:15:11.465169Z"
    },
    "papermill": {
     "duration": 0.023048,
     "end_time": "2023-05-24T20:15:11.469206",
     "exception": false,
     "start_time": "2023-05-24T20:15:11.446158",
     "status": "completed"
    },
    "tags": []
   },
   "outputs": [],
   "source": [
    "# Define the target column as \"BTC\"\n",
    "target = df[\"BTC\"]\n",
    "\n",
    "# Define the feature columns as all the columns except \"Date\" and \"BTC\"\n",
    "features = df.drop([\"BTC\"], axis=1)"
   ]
  },
  {
   "cell_type": "code",
   "execution_count": 14,
   "id": "fcc31e14",
   "metadata": {
    "execution": {
     "iopub.execute_input": "2023-05-24T20:15:11.494971Z",
     "iopub.status.busy": "2023-05-24T20:15:11.494529Z",
     "iopub.status.idle": "2023-05-24T20:15:11.519072Z",
     "shell.execute_reply": "2023-05-24T20:15:11.517999Z"
    },
    "papermill": {
     "duration": 0.04054,
     "end_time": "2023-05-24T20:15:11.521870",
     "exception": false,
     "start_time": "2023-05-24T20:15:11.481330",
     "status": "completed"
    },
    "tags": []
   },
   "outputs": [],
   "source": [
    "# Create a 80/20 training and test split\n",
    "X_train, X_test, y_train, y_test = train_test_split(features, target, test_size=0.2, random_state=0)\n",
    "\n",
    "# Generate a Linear Regression model\n",
    "model = LinearRegression()\n",
    "\n",
    "# Fit the model to the training data\n",
    "model.fit(X_train, y_train)\n",
    "\n",
    "# Predict on the test data\n",
    "y_pred = model.predict(X_test)"
   ]
  },
  {
   "cell_type": "code",
   "execution_count": 15,
   "id": "39e1ab60",
   "metadata": {
    "execution": {
     "iopub.execute_input": "2023-05-24T20:15:11.547787Z",
     "iopub.status.busy": "2023-05-24T20:15:11.547380Z",
     "iopub.status.idle": "2023-05-24T20:15:11.556110Z",
     "shell.execute_reply": "2023-05-24T20:15:11.554838Z"
    },
    "papermill": {
     "duration": 0.025423,
     "end_time": "2023-05-24T20:15:11.559183",
     "exception": false,
     "start_time": "2023-05-24T20:15:11.533760",
     "status": "completed"
    },
    "tags": []
   },
   "outputs": [
    {
     "name": "stdout",
     "output_type": "stream",
     "text": [
      "Linear Regression Confidence:  1.0\n",
      "100.0 %\n"
     ]
    }
   ],
   "source": [
    "linReg_confidence = model.score(X_test,y_test)\n",
    "print(\"Linear Regression Confidence: \",linReg_confidence)\n",
    "print(linReg_confidence*100,'%')"
   ]
  },
  {
   "cell_type": "code",
   "execution_count": 16,
   "id": "7977fff2",
   "metadata": {
    "execution": {
     "iopub.execute_input": "2023-05-24T20:15:11.584844Z",
     "iopub.status.busy": "2023-05-24T20:15:11.584416Z",
     "iopub.status.idle": "2023-05-24T20:15:11.595616Z",
     "shell.execute_reply": "2023-05-24T20:15:11.594513Z"
    },
    "papermill": {
     "duration": 0.02732,
     "end_time": "2023-05-24T20:15:11.598302",
     "exception": false,
     "start_time": "2023-05-24T20:15:11.570982",
     "status": "completed"
    },
    "tags": []
   },
   "outputs": [
    {
     "name": "stdout",
     "output_type": "stream",
     "text": [
      "Mean Squared Error: 1.4013412730310116e-23\n",
      "Next day price: 27225.72656229867\n"
     ]
    },
    {
     "name": "stderr",
     "output_type": "stream",
     "text": [
      "/opt/conda/lib/python3.7/site-packages/sklearn/base.py:451: UserWarning:\n",
      "\n",
      "X does not have valid feature names, but LinearRegression was fitted with feature names\n",
      "\n"
     ]
    }
   ],
   "source": [
    "from sklearn.metrics import mean_squared_error\n",
    "\n",
    "# Evaluate the model on the testing data\n",
    "mse = mean_squared_error(y_test, y_pred)\n",
    "print('Mean Squared Error:', mse)\n",
    "\n",
    "# Use the model to predict the next day's price\n",
    "last_day_data = df.tail(1)\n",
    "next_day_data = [[last_day_data['Open'].values[0], last_day_data['High'].values[0],\n",
    "                  last_day_data['Low'].values[0], last_day_data['Close'].values[0],\n",
    "                  last_day_data['BTC'].values[0], last_day_data['Volume'].values[0]]]\n",
    "next_day_price = model.predict(next_day_data)\n",
    "print('Next day price:', next_day_price[0])"
   ]
  },
  {
   "cell_type": "code",
   "execution_count": null,
   "id": "769cf947",
   "metadata": {
    "papermill": {
     "duration": 0.011672,
     "end_time": "2023-05-24T20:15:11.622025",
     "exception": false,
     "start_time": "2023-05-24T20:15:11.610353",
     "status": "completed"
    },
    "tags": []
   },
   "outputs": [],
   "source": []
  }
 ],
 "metadata": {
  "kernelspec": {
   "display_name": "Python 3",
   "language": "python",
   "name": "python3"
  },
  "language_info": {
   "codemirror_mode": {
    "name": "ipython",
    "version": 3
   },
   "file_extension": ".py",
   "mimetype": "text/x-python",
   "name": "python",
   "nbconvert_exporter": "python",
   "pygments_lexer": "ipython3",
   "version": "3.7.12"
  },
  "papermill": {
   "default_parameters": {},
   "duration": 50.977201,
   "end_time": "2023-05-24T20:15:12.658082",
   "environment_variables": {},
   "exception": null,
   "input_path": "__notebook__.ipynb",
   "output_path": "__notebook__.ipynb",
   "parameters": {},
   "start_time": "2023-05-24T20:14:21.680881",
   "version": "2.4.0"
  }
 },
 "nbformat": 4,
 "nbformat_minor": 5
}
